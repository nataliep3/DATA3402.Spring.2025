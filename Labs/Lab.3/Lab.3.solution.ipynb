{
 "cells": [
  {
   "cell_type": "markdown",
   "metadata": {},
   "source": [
    "# Lab 3\n",
    "\n",
    "In this lab we will become familiar with distributions, histograms, and functional programming. Do not use numpy or any other library for this lab.\n",
    "\n",
    "Before that, lets get setup homework submission and submit your previous lab.  \n",
    "\n",
    "## Working on the Command-line.\n",
    "\n",
    "It is important for you to learn to work on the command line and to be familiar with the Unix environment (e.g. Linux, Mac OS, or Windows Linux Subsystem). We'll go over working on the command-line in detail later in the course.\n",
    "\n",
    "You are required to submit your work in this course via GitHub. Today in class, you will setup everything on the command-line.\n",
    "\n",
    "### Command-line basics\n",
    "\n",
    "There is plenty of material online that will help you figure out how to do various tasks on the command line. Commands you may need to know today:\n",
    "\n",
    "* `ls`: lists the contents of the current directory.\n",
    "* `pwd`: prints the path of the current directory.\n",
    "* `cd <directory>`: changes your current directory to the specified directory.\n",
    "* `cd ..`: changes current directory to the previous directory. Basically steps out of the current directory to the directory containing the current directory.\n",
    "* `mkdir <directory>`: create a new directory with the specified name.\n",
    "* `rmdir <directory>`: removes the specified directory. Note it has to be empty.\n",
    "* `rm <filename>`: deletes the specified file.\n",
    "* `mv <filename 1> <filename 2>`: Moves or renames a file.\n",
    "* `cp <filename 1> <filename 2>`: copies an file. If you just provide a path to a directory, it copies the file into that directory with the same filename. If you specifiy a new filename, the copy has a new name. For example `cp File.1.txt File.2.txt` creates a copy of `File.1.txt` with the name `File.2.txt`. Meanwhile `cp File.1.txt my_directory`, where `my_directory` is a directory, creates a copy of `File.1.txt` in directory `my_directory` with the name `File.1.txt`.\n",
    "\n",
    "For reference, here are some example resources I found by googling:\n",
    "\n",
    "* Paths and Wildcards: https://www.warp.dev/terminus/linux-wildcards\n",
    "* Basic commands like copy: https://kb.iu.edu/d/afsk\n",
    "* General introduction to shell: https://github-pages.ucl.ac.uk/RCPSTrainingMaterials/HPCandHTCusingLegion/2_intro_to_shell.html\n",
    "* Manual pages: https://www.geeksforgeeks.org/linux-man-page-entries-different-types/?ref=ml_lbp\n",
    "* Chaining commands: https://www.geeksforgeeks.org/chaining-commands-in-linux/?ref=ml_lbp\n",
    "* Piping: https://www.geeksforgeeks.org/piping-in-unix-or-linux/\n",
    "* Using sed: https://www.geeksforgeeks.org/sed-command-linux-set-2/?ref=ml_lbp\n",
    "* Various Unix commands: https://www.geeksforgeeks.org/linux-commands/?ref=lbp\n",
    "* Cheat sheets:\n",
    "    * https://www.stationx.net/unix-commands-cheat-sheet/\n",
    "    * https://cheatography.com/davechild/cheat-sheets/linux-command-line/\n",
    "    * https://www.theknowledgeacademy.com/blog/unix-commands-cheat-sheet/\n",
    "    \n",
    "These aren't necessarily the best resources. Feel free to search for better ones. Also, don't forget that Unix has built-in manual pages for all of its commands. Just type `man <command>` at the command prompt. Use the space-bar to scroll through the documentation and \"q\" to exit.\n",
    "\n",
    "\n",
    "### Setup and Submission\n",
    "\n",
    "Our course repository is public. The instructions here aim to have you setup a fork of the course repository. Unfortunately because you are forking a public repo, your fork will have to be public also. \n",
    "\n",
    "You should be familiar with git from the first semester of this course. I assume that you all have github accounts and have setup things to be able to [push to github using ssh](https://docs.github.com/en/github/authenticating-to-github/connecting-to-github-with-ssh). The instuctions here lead you to:\n",
    "\n",
    "We'll overview what you will do before going through step by step instructions.\n",
    "\n",
    "1. Setup:\n",
    "    1. Fork the class repository. Some directions in [fork-a-repo](https://docs.github.com/en/github/getting-started-with-github/fork-a-repo).\n",
    "    1. Create a directory on your personal system where you will keep all course materials.\n",
    "    1. In that directory, clone your fork of the repository.\n",
    "    1. Using `git remote`, set the upstream to be the class repo, so you can pull from the class and push to your fork.\n",
    "\n",
    "1. Submission:\n",
    "    1. Copy your solutions into the appropriate directory (e.g. into `Labs/Lab.2/`) and with appropriate filename `Lab.2.solution.ipynb'.\n",
    "    1. Commit / push your solutions.\n",
    " \n",
    "Below are step by step instructions with examples (including example directory naming convention). Feel free to modify things as you see fit. \n",
    "\n",
    "#### Setup\n",
    "You should only need to follow this instructions once. Here are some useful git commands:\n",
    "\n",
    "* Git help: `git help`\n",
    "* Git remote help: `git help remote`\n",
    "* Check remote status: `git remote -v`\n",
    "* Add a remote: `git remote add <stream name> <repo URL>`\n",
    "* Add a remove: `git remote remove <stream name>`\n",
    "\n",
    "Steps:\n",
    "1. In a browser, log into GitHub and navigate to the [course repository](https://github.com/UTA-DataScience/DATA3402.Spring.2025).\n",
    "1. On the top right of the page, press the fork button to create a new fork into your own GitHub account.\n",
    "1. After successful fork, you should find the browser showing your fork of the course repository. Use the green \"Code\" button to copy path to the repo into your the clipboard of your computer.\n",
    "1. Open a shell on your personal computer.\n",
    "1. If you have not done so already, create a new directory/folder where you will keep all course material to navigate to it. For example: `mkdir Data-3402` and `cd Data-3402`.\n",
    "1. Clone your fork of the repository using `git clone` followed by the path you copied into your clipboard. (copy/paste)\n",
    "1. Paste the URL to your fork in the worksheet for the TAs and instructors.\n",
    "1. Now go into the directory of your clone (`cd DATA3402.Spring.2025`).\n",
    "1. Type `git remote -v` to see the current setup for fetch and pull.\n",
    "1. Note the URL you see. This should be the same as what you used for your clone for both push and fetch.\n",
    "1. Delete the origin remote using `git remote remove origin`.\n",
    "1. Add the course repo as your remote using `git remote add origin https://github.com/UTA-DataScience/DATA3402.Spring.2025.git`.\n",
    "1. Change the push to point to your fork. This means you will need the URL to your clone we copied earlier and confirmed as the original origin. The command will look something like: `git remote set-url --push origin  https://github.com/XXXXXX/DATA3402.Spring.2025.git`, where XXXXX is your username on GitHub.\n",
    "1. Note that if you setup everything correctly, you now should be able to do `git pull` to get updates from the course repo, and do `git push` to push your commits into your own fork.\n",
    "\n",
    "### Submission\n",
    "These instructions outline how you submit files. Some useful commands:\n",
    "* To add a file to local repository: `git add <file>`.\n",
    "* To commit all changed files into local repository: `git -a -m \"A message\"`. You need to provide some comment when you commit. \n",
    "* To push the commited files from the local repository to GitHub: `git push`.\n",
    "* To get updates from GitHub: `git pull`.\n",
    "\n",
    "Steps:\n",
    "1. To submit your labs, navigate to your clone of your fork of the course repository. \n",
    "1. Use `git pull` to make sure you have the latest updates. \n",
    "1. Make sure your copy of the lab your are working on is in the appropriate place in this clone. That means if you have the file elsewhere, copy it to the same directory in your clone of your fork. \n",
    "1. Note that in order to avoid future conflicts, you should always name your solution differently than the original file in the class repo. For example if your file is still named `Lab.2.ipynb` you should rename it using the `mv` command: `mv Lab.2.ipynb Lab.2.solution.ipynb`. \n",
    "1. Add and files you wish to submit into the repo. For example: `git add Labs/Lab.2/Lab.2.solution.ipynb`\n",
    "1. Commit any changes: `git commit -a -m \"Lab 2 updates\"`\n",
    "1. Push your changes: `git push`\n",
    "1. Check on github website that your solutions have been properly submitted.\n",
    "\n",
    "Before you leave the session today, make sure your GitHub Repo is setup. If you need to work further on your lab, navigate jupyter to the copy of the lab you just submitted and work there. Once done, repeat the commit and push commands to submit your updated solution. Note that lab 2 is due by midnight Friay 1/31/2025.\n"
   ]
  },
  {
   "cell_type": "markdown",
   "metadata": {},
   "source": [
    "### Uniform Distribution\n",
    "Lets start with generating some fake random data. You can get a random number between 0 and 1 using the python random module as follow:"
   ]
  },
  {
   "cell_type": "code",
   "execution_count": 1,
   "metadata": {},
   "outputs": [
    {
     "name": "stdout",
     "output_type": "stream",
     "text": [
      "The Value of x is 0.27636551457301195\n"
     ]
    }
   ],
   "source": [
    "import random\n",
    "x=random.random()\n",
    "print(\"The Value of x is\", x)"
   ]
  },
  {
   "cell_type": "markdown",
   "metadata": {},
   "source": [
    "Everytime you call random, you will get a new number.\n",
    "\n",
    "*Exercise 1:* Using random, write a function `generate_uniform(N, mymin, mymax)`, that returns a python list containing N random numbers between specified minimum and maximum value. Note that you may want to quickly work out on paper how to turn numbers between 0 and 1 to between other values. "
   ]
  },
  {
   "cell_type": "code",
   "execution_count": 2,
   "metadata": {},
   "outputs": [],
   "source": [
    "def generate_uniform(N,x_min,x_max):\n",
    "    out = []\n",
    "    for i in range(N):\n",
    "      x = random.random()\n",
    "      x_range = x * (x_max-x_min) + x_min\n",
    "      out.append(x_range)\n",
    "    return out"
   ]
  },
  {
   "cell_type": "code",
   "execution_count": 3,
   "metadata": {},
   "outputs": [
    {
     "name": "stdout",
     "output_type": "stream",
     "text": [
      "Data Type: <class 'list'>\n",
      "Data Length: 1000\n",
      "Type of Data Contents: <class 'float'>\n",
      "Data Minimum: -9.998070505084225\n",
      "Data Maximum: 9.993145958261238\n"
     ]
    }
   ],
   "source": [
    "# Test your solution here\n",
    "data=generate_uniform(1000,-10,10)\n",
    "print (\"Data Type:\", type(data))\n",
    "print (\"Data Length:\", len(data))\n",
    "if len(data)>0: \n",
    "    print (\"Type of Data Contents:\", type(data[0]))\n",
    "    print (\"Data Minimum:\", min(data))\n",
    "    print (\"Data Maximum:\", max(data))"
   ]
  },
  {
   "cell_type": "markdown",
   "metadata": {},
   "source": [
    "*Exercise 2a:* \n",
    "Write a function that computes the mean of values in a list. Recall the equation for the mean of a random variable $\\bf{x}$ computed on a data set of $n$ values $\\{ x_i \\} = \\{x_1, x_2, ..., x_n\\}$  is ${\\bf\\bar{x}} = \\frac{1}{n} \\sum_i^n x_i$."
   ]
  },
  {
   "cell_type": "code",
   "execution_count": 4,
   "metadata": {},
   "outputs": [],
   "source": [
    "# Skeleton\n",
    "def mean(Data):\n",
    "    m=0.\n",
    "    for i in range(len(Data)):\n",
    "      m += Data[i]\n",
    "      m = m / len(Data)\n",
    "    return m"
   ]
  },
  {
   "cell_type": "code",
   "execution_count": 5,
   "metadata": {},
   "outputs": [
    {
     "name": "stdout",
     "output_type": "stream",
     "text": [
      "Mean of Data: -0.008027898719179772\n"
     ]
    }
   ],
   "source": [
    "# Test your solution here\n",
    "print (\"Mean of Data:\", mean(data))"
   ]
  },
  {
   "cell_type": "markdown",
   "metadata": {},
   "source": [
    "*Exercise 2b:* \n",
    "Write a function that computes the variance of values in a list. Recall the equation for the variance of a random variable $\\bf{x}$ computed on a data set of $n$ values $\\{ x_i \\} = \\{x_1, x_2, ..., x_n\\}$  is ${\\bf\\langle x \\rangle} = \\frac{1}{n-1} \\sum_i^n (x_i - {\\bf\\bar{x}})^2$."
   ]
  },
  {
   "cell_type": "code",
   "execution_count": 6,
   "metadata": {},
   "outputs": [],
   "source": [
    "# Skeleton\n",
    "def variance(Data):\n",
    "    m=0\n",
    "    m=mean(Data)\n",
    "\n",
    "    var=sum((xi-m)**2 for xi in Data)/len(Data)\n",
    "\n",
    "    return var\n",
    "\n",
    "    return m"
   ]
  },
  {
   "cell_type": "code",
   "execution_count": 7,
   "metadata": {},
   "outputs": [
    {
     "name": "stdout",
     "output_type": "stream",
     "text": [
      "Variance of Data: 31.9642912561597\n"
     ]
    }
   ],
   "source": [
    "# Test your solution here\n",
    "print (\"Variance of Data:\", variance(data))"
   ]
  },
  {
   "cell_type": "markdown",
   "metadata": {},
   "source": [
    "## Histogramming"
   ]
  },
  {
   "cell_type": "markdown",
   "metadata": {},
   "source": [
    "*Exercise 3:* Write a function that bins the data so that you can create a histogram. An example of how to implement histogramming is the following logic:\n",
    "\n",
    "* User inputs a list of values `x` and optionally `n_bins` which defaults to 10.\n",
    "* If not supplied, find the minimum and maximum (`x_min`,`x_max`) of the values in x.\n",
    "* Determine the bin size (`bin_size`) by dividing the range of the function by the number of bins.\n",
    "* Create an empty list of zeros of size `n_bins`, call it `hist`.\n",
    "* Loop over the values in `x`\n",
    "    * Loop over the values in `hist` with index `i`:\n",
    "        * If x is between `x_min+i*bin_size` and `x_min+(i+1)*bin_size`, increment `hist[i].` \n",
    "        * For efficiency, try to use continue to goto the next bin and data point.\n",
    "* Return `hist` and the list corresponding of the bin edges (i.e. of `x_min+i*bin_size`).    "
   ]
  },
  {
   "cell_type": "code",
   "execution_count": 8,
   "metadata": {},
   "outputs": [],
   "source": [
    "# Solution\n",
    "def histogram(x,n_bins=10,x_min=None,x_max=None):\n",
    "\n",
    "  if x_min is None:\n",
    "    x_min = min(x)\n",
    "  if x_max is None:\n",
    "    x_max = max(x)\n",
    "\n",
    "  bin_size = (x_max - x_min) / n_bins\n",
    "\n",
    "  hist = [0] * n_bins\n",
    "\n",
    "  bin_edges = [x_min + i * bin_size for i in range(n_bins + 1)]\n",
    "\n",
    "  for value in x:\n",
    "    for i in range(n_bins):\n",
    "      if bin_edges[i] <= value < bin_edges[i + 1]:\n",
    "        hist[i] += 1\n",
    "        break\n",
    "\n",
    "  return hist, bin_edges"
   ]
  },
  {
   "cell_type": "code",
   "execution_count": 11,
   "metadata": {},
   "outputs": [
    {
     "name": "stdout",
     "output_type": "stream",
     "text": [
      "[12, 10, 7, 6, 7, 15, 3, 8, 14, 14, 8, 8, 7, 5, 6, 11, 8, 11, 8, 13, 11, 12, 4, 9, 7, 17, 11, 14, 10, 21, 11, 10, 8, 11, 10, 10, 12, 12, 17, 7, 6, 5, 11, 5, 17, 15, 4, 12, 4, 9, 12, 13, 8, 4, 4, 13, 10, 11, 12, 8, 11, 17, 8, 8, 10, 12, 10, 12, 15, 15, 11, 12, 8, 9, 14, 8, 6, 10, 12, 8, 12, 10, 17, 15, 10, 8, 7, 8, 5, 8, 9, 8, 17, 7, 4, 9, 13, 12, 10, 6] [-9.998070505084225, -9.79815834045077, -9.598246175817316, -9.398334011183861, -9.198421846550406, -8.998509681916952, -8.798597517283497, -8.598685352650044, -8.398773188016587, -8.198861023383134, -7.998948858749679, -7.799036694116225, -7.59912452948277, -7.3992123648493155, -7.199300200215861, -6.999388035582406, -6.799475870948951, -6.599563706315497, -6.399651541682042, -6.199739377048587, -5.999827212415132, -5.7999150477816785, -5.600002883148224, -5.400090718514769, -5.200178553881314, -5.00026638924786, -4.800354224614405, -4.60044205998095, -4.400529895347496, -4.2006177307140415, -4.000705566080587, -3.800793401447132, -3.6008812368136773, -3.4009690721802226, -3.201056907546768, -3.001144742913313, -2.8012325782798584, -2.6013204136464045, -2.40140824901295, -2.201496084379495, -2.0015839197460403, -1.8016717551125865, -1.6017595904791317, -1.401847425845677, -1.2019352612122223, -1.0020230965787675, -0.8021109319453128, -0.6021987673118581, -0.4022866026784033, -0.2023744380449486, -0.002462273411493854, 0.19744989122196088, 0.3973620558554156, 0.5972742204888704, 0.7971863851223251, 0.9970985497557798, 1.1970107143892328, 1.3969228790226875, 1.5968350436561423, 1.796747208289597, 1.9966593729230517, 2.1965715375565065, 2.396483702189961, 2.596395866823416, 2.7963080314568707, 2.9962201960903254, 3.19613236072378, 3.396044525357235, 3.5959566899906896, 3.7958688546241444, 3.995781019257599, 4.195693183891054, 4.395605348524509, 4.5955175131579615, 4.795429677791416, 4.995341842424871, 5.195254007058326, 5.3951661716917805, 5.595078336325235, 5.79499050095869, 5.994902665592145, 6.194814830225599, 6.394726994859052, 6.594639159492509, 6.794551324125962, 6.994463488759418, 7.194375653392871, 7.394287818026328, 7.594199982659781, 7.794112147293237, 7.99402431192669, 8.193936476560147, 8.3938486411936, 8.593760805827056, 8.79367297046051, 8.993585135093966, 9.193497299727419, 9.393409464360872, 9.593321628994328, 9.793233793627781, 9.993145958261238]\n"
     ]
    }
   ],
   "source": [
    "# Test your solution here\n",
    "h,b=histogram(data,100)\n",
    "print(h,b)"
   ]
  },
  {
   "cell_type": "markdown",
   "metadata": {},
   "source": [
    "*Exercise 4:* Write a function that uses the histogram function in the previous exercise to create a text-based \"graph\". For example the output could look like the following:\n",
    "```\n",
    "[  0,  1] : ######\n",
    "[  1,  2] : #####\n",
    "[  2,  3] : ######\n",
    "[  3,  4] : ####\n",
    "[  4,  5] : ####\n",
    "[  5,  6] : ######\n",
    "[  6,  7] : #####\n",
    "[  7,  8] : ######\n",
    "[  8,  9] : ####\n",
    "[  9, 10] : #####\n",
    "```\n",
    "\n",
    "Where each line corresponds to a bin and the number of `#`'s are proportional to the value of the data in the bin. "
   ]
  },
  {
   "cell_type": "code",
   "execution_count": 12,
   "metadata": {},
   "outputs": [],
   "source": [
    "# Solution\n",
    "def draw_histogram(x,n_bins,x_min=None,x_max=None,character=\"#\",max_character_per_line=20):\n",
    "\n",
    "  hist, bin_edges = histogram(x, n_bins, x_min, x_max)\n",
    "  max_freq=max(hist)\n",
    "\n",
    "  for i in range(n_bins):\n",
    "    bar_length=int(hist[i]/max_freq*max_character_per_line) if max_freq else 0\n",
    "    print(f\"[{bin_edges[i]:2f}, {bin_edges[i+1]:2f}] : {character*bar_length}\")\n",
    "\n",
    "  return hist,bin_edges"
   ]
  },
  {
   "cell_type": "code",
   "execution_count": 14,
   "metadata": {},
   "outputs": [
    {
     "name": "stdout",
     "output_type": "stream",
     "text": [
      "[-9.998071, -8.998510] : ###########\n",
      "[-8.998510, -7.998949] : ##############\n",
      "[-7.998949, -6.999388] : #########\n",
      "[-6.999388, -5.999827] : #############\n",
      "[-5.999827, -5.000266] : ###########\n",
      "[-5.000266, -4.000706] : ####################\n",
      "[-4.000706, -3.001145] : #############\n",
      "[-3.001145, -2.001584] : ###############\n",
      "[-2.001584, -1.002023] : ############\n",
      "[-1.002023, -0.002462] : ############\n",
      "[-0.002462, 0.997099] : ###########\n",
      "[0.997099, 1.996659] : ##############\n",
      "[1.996659, 2.996220] : ##############\n",
      "[2.996220, 3.995781] : #################\n",
      "[3.995781, 4.995342] : ##############\n",
      "[4.995342, 5.994903] : ############\n",
      "[5.994903, 6.994463] : #################\n",
      "[6.994463, 7.994024] : #########\n",
      "[7.994024, 8.993585] : ############\n",
      "[8.993585, 9.993146] : #############\n",
      "([42, 54, 34, 51, 43, 73, 50, 58, 44, 44, 41, 54, 54, 64, 54, 44, 64, 36, 45, 50], [-9.998070505084225, -8.998509681916952, -7.998948858749679, -6.999388035582406, -5.999827212415132, -5.00026638924786, -4.000705566080587, -3.001144742913313, -2.0015839197460403, -1.0020230965787675, -0.002462273411493854, 0.9970985497557798, 1.9966593729230517, 2.9962201960903254, 3.995781019257599, 4.995341842424871, 5.994902665592145, 6.994463488759418, 7.99402431192669, 8.993585135093966, 9.993145958261238])\n"
     ]
    }
   ],
   "source": [
    "# Test your solution here\n",
    "print(draw_histogram(data,20))"
   ]
  },
  {
   "cell_type": "markdown",
   "metadata": {},
   "source": [
    "## Functional Programming\n",
    "\n",
    "*Exercise 5:* Write a function the applies a booling function (that returns true/false) to every element in data, and return a list of indices of elements where the result was true. Use this function to find the indices of entries greater than 0.5. "
   ]
  },
  {
   "cell_type": "code",
   "execution_count": 15,
   "metadata": {},
   "outputs": [],
   "source": [
    "def where(mylist,myfunc):\n",
    "  out= []\n",
    "  for i, val in enumerate(mylist):\n",
    "    if myfunc(val):\n",
    "      out.append(i)\n",
    "  return out"
   ]
  },
  {
   "cell_type": "code",
   "execution_count": 16,
   "metadata": {},
   "outputs": [
    {
     "name": "stdout",
     "output_type": "stream",
     "text": [
      "[0, 1, 4, 7, 10, 12, 13, 14, 16, 18, 19, 24, 26, 29, 33, 36, 37, 38, 43, 44, 45, 46, 47, 48, 50, 53, 54, 55, 57, 58, 60, 64, 66, 68, 71, 72, 74, 75, 76, 78, 80, 81, 82, 85, 87, 88, 90, 92, 94, 96, 99, 100, 101, 103, 106, 107, 111, 115, 116, 119, 121, 122, 123, 124, 126, 127, 130, 132, 133, 135, 138, 139, 145, 147, 149, 157, 162, 163, 169, 171, 173, 174, 178, 182, 183, 185, 186, 189, 190, 192, 193, 194, 195, 196, 197, 199, 200, 201, 202, 205, 206, 207, 209, 210, 212, 221, 229, 230, 233, 234, 235, 239, 241, 242, 243, 244, 245, 246, 249, 251, 252, 253, 254, 256, 257, 258, 260, 262, 263, 264, 266, 269, 270, 271, 274, 275, 279, 281, 284, 285, 287, 289, 291, 294, 295, 296, 297, 301, 304, 307, 308, 309, 310, 317, 319, 320, 321, 322, 324, 325, 326, 332, 333, 336, 341, 342, 343, 344, 345, 346, 348, 349, 352, 360, 363, 366, 370, 371, 373, 377, 378, 380, 386, 387, 388, 391, 393, 394, 395, 396, 399, 408, 410, 411, 412, 413, 427, 428, 431, 435, 437, 439, 440, 442, 443, 446, 447, 448, 450, 454, 458, 459, 460, 464, 465, 466, 468, 469, 471, 473, 478, 484, 488, 489, 491, 492, 494, 496, 499, 500, 501, 502, 503, 504, 508, 510, 511, 512, 514, 517, 520, 522, 523, 526, 527, 528, 532, 533, 534, 535, 539, 541, 542, 546, 547, 549, 550, 555, 557, 558, 559, 560, 561, 568, 570, 571, 572, 574, 575, 576, 577, 578, 581, 584, 589, 591, 592, 593, 597, 604, 605, 606, 607, 609, 611, 613, 614, 615, 616, 617, 619, 620, 621, 623, 625, 627, 628, 632, 634, 639, 640, 642, 643, 646, 648, 649, 650, 658, 659, 663, 665, 667, 672, 673, 676, 677, 678, 682, 684, 687, 690, 691, 692, 694, 698, 699, 700, 707, 710, 711, 712, 713, 714, 716, 717, 721, 722, 723, 724, 730, 731, 732, 737, 738, 739, 740, 743, 746, 749, 750, 751, 754, 755, 757, 761, 762, 764, 766, 767, 769, 770, 771, 774, 775, 776, 778, 780, 781, 782, 784, 790, 791, 793, 794, 795, 796, 797, 799, 800, 803, 805, 806, 807, 808, 809, 810, 812, 817, 820, 823, 824, 832, 833, 835, 836, 837, 838, 841, 843, 844, 851, 853, 855, 856, 857, 859, 861, 862, 868, 871, 872, 873, 877, 879, 880, 881, 883, 884, 885, 887, 890, 891, 894, 895, 896, 897, 899, 900, 902, 904, 905, 907, 910, 912, 913, 914, 915, 916, 917, 918, 921, 927, 928, 931, 933, 934, 938, 941, 942, 944, 945, 946, 947, 949, 953, 955, 957, 958, 959, 961, 963, 964, 966, 967, 969, 970, 972, 973, 974, 977, 978, 983, 984, 987, 989, 990, 992, 994, 998]\n"
     ]
    }
   ],
   "source": [
    "# Test your solution here\n",
    "indices_test=where(data,lambda x: x>0.5)\n",
    "print(indices_test)"
   ]
  },
  {
   "cell_type": "markdown",
   "metadata": {},
   "source": [
    "*Exercise 6:* The `inrange(mymin,mymax)` function below returns a function that tests if it's input is between the specified values. Write corresponding functions that test:\n",
    "* Even\n",
    "* Odd\n",
    "* Greater than\n",
    "* Less than\n",
    "* Equal\n",
    "* Divisible by"
   ]
  },
  {
   "cell_type": "code",
   "execution_count": 17,
   "metadata": {},
   "outputs": [
    {
     "name": "stdout",
     "output_type": "stream",
     "text": [
      "True True False False False\n",
      "False False True True False\n",
      "Number of Entries passing F1: 507\n",
      "Number of Entries passing F2: 0\n"
     ]
    }
   ],
   "source": [
    "def in_range(mymin,mymax):\n",
    "    def testrange(x):\n",
    "        return x<mymax and x>=mymin\n",
    "    return testrange\n",
    "\n",
    "# Examples:\n",
    "F1=in_range(0,10)\n",
    "F2=in_range(10,20)\n",
    "\n",
    "# Test of in_range\n",
    "print (F1(0), F1(1), F1(10), F1(15), F1(20))\n",
    "print (F2(0), F2(1), F2(10), F2(15), F2(20))\n",
    "\n",
    "print (\"Number of Entries passing F1:\", len(where(data,F1)))\n",
    "print (\"Number of Entries passing F2:\", len(where(data,F2)))"
   ]
  },
  {
   "cell_type": "code",
   "execution_count": 18,
   "metadata": {},
   "outputs": [],
   "source": [
    "def is_even(x):\n",
    "  return x % 2 == 0\n",
    "\n",
    "def is_odd(x):\n",
    "  return x % 2 != 0\n",
    "\n",
    "def is_greater_than(threshold):\n",
    "  def test_greater_than(x):\n",
    "    return x > threshold\n",
    "  return test_greater_than\n",
    "\n",
    "def is_less_than(threshold):\n",
    "  def test_less_than(x):\n",
    "    return x < threshold\n",
    "  return test_less_than\n",
    "\n",
    "def is_equal_to(value):\n",
    "  def test_equal_to(x):\n",
    "    return x == value\n",
    "  return test_equal_to\n",
    "\n",
    "def is_divisible_by(divisor):\n",
    "  def test_divisible_by(x):\n",
    "    return x % divisor == 0\n",
    "  return test_divisible_by"
   ]
  },
  {
   "cell_type": "code",
   "execution_count": 19,
   "metadata": {},
   "outputs": [
    {
     "name": "stdout",
     "output_type": "stream",
     "text": [
      "Number of Entries passing is_even: 0\n"
     ]
    }
   ],
   "source": [
    "# Test your solution\n",
    "print (\"Number of Entries passing is_even:\", len(where(data,is_even)))"
   ]
  },
  {
   "cell_type": "markdown",
   "metadata": {},
   "source": [
    "*Exercise 7:* Repeat the previous exercise using `lambda` and the built-in python functions sum and map instead of your solution above. "
   ]
  },
  {
   "cell_type": "code",
   "execution_count": 20,
   "metadata": {},
   "outputs": [],
   "source": [
    "def in_range_lambda(mymin, mymax):\n",
    "    return lambda x: mymin <= x < mymax\n",
    "\n",
    "def is_even_lambda(x):\n",
    "    return x % 2 == 0\n",
    "\n",
    "def is_odd_lambda(x):\n",
    "    return x % 2 != 0\n",
    "\n",
    "def is_greater_than_lambda(threshold):\n",
    "    return lambda x: x > threshold\n",
    "\n",
    "def is_less_than_lambda(threshold):\n",
    "    return lambda x: x < threshold\n",
    "\n",
    "def is_equal_to_lambda(value):\n",
    "    return lambda x: x == value\n",
    "\n",
    "def is_divisible_by_lambda(divisor):\n",
    "    return lambda x: x % divisor == 0"
   ]
  },
  {
   "cell_type": "markdown",
   "metadata": {},
   "source": [
    "## Monte Carlo\n",
    "\n",
    "*Exercise 7:* Write a \"generator\" function called `generate_function(func,x_min,x_max,N)`, that instead of generating a flat distribution, generates a distribution with functional form coded in `func`. Note that `func` will always be > 0.  \n",
    "\n",
    "Use the test function below and your histogramming functions above to demonstrate that your generator is working properly.\n",
    "\n",
    "Hint: A simple, but slow, solution is to a draw random number `test_x` within the specified range and another number `p` between the `min` and `max` of the function (which you will have to determine). If `p<=function(test_x)`, then place `test_x` on the output. If not, repeat the process, drawing two new numbers. Repeat until you have the specified number of generated numbers, `N`. For this problem, it's OK to determine the `min` and `max` by numerically sampling the function.  "
   ]
  },
  {
   "cell_type": "code",
   "execution_count": 21,
   "metadata": {},
   "outputs": [],
   "source": [
    "def generate_function(func, x_min, x_max, N=1000):\n",
    "    out = list()\n",
    "    x_values = [x_min + (x_max - x_min) * i / 1000 for i in range(1000)]\n",
    "    func_values = [func(x) for x in x_values]\n",
    "    func_min = min(func_values)\n",
    "    func_max = max(func_values)\n",
    "\n",
    "    while len(out) < N:\n",
    "        test_x = random.uniform(x_min, x_max)\n",
    "        p = random.uniform(func_min, func_max)\n",
    "        if p <= func(test_x):\n",
    "            out.append(test_x)\n",
    "\n",
    "    return out"
   ]
  },
  {
   "cell_type": "code",
   "execution_count": 23,
   "metadata": {},
   "outputs": [
    {
     "data": {
      "text/plain": [
       "[9.583117110735493,\n",
       " 5.810383541411736,\n",
       " 9.50285191184748,\n",
       " 9.893216638801327,\n",
       " 0.6627889639907925,\n",
       " 9.053841437867362,\n",
       " 7.300973187219398,\n",
       " 6.893780221525213,\n",
       " 6.624660865992019,\n",
       " 2.4552792317368457,\n",
       " 6.744761724430726,\n",
       " 9.842509638062227,\n",
       " 9.074332488794171,\n",
       " 8.781674241065758,\n",
       " 5.779521639523066,\n",
       " 5.825453170391052,\n",
       " 9.943192039166602,\n",
       " 6.85461501055067,\n",
       " 8.367191609304824,\n",
       " 9.024990597225578,\n",
       " 9.491168502916839,\n",
       " 3.0389846618546077,\n",
       " 6.996618431748484,\n",
       " 9.212419589488837,\n",
       " 4.377087319497212,\n",
       " 4.5709238249399995,\n",
       " 8.130892935423514,\n",
       " 7.100578040712856,\n",
       " 7.0427066018150875,\n",
       " 4.370366209462841,\n",
       " 6.24434627508477,\n",
       " 9.790607223745765,\n",
       " 7.573936249582355,\n",
       " 5.435720587292991,\n",
       " 9.547346891981753,\n",
       " 5.2526502437668,\n",
       " 7.46541885150797,\n",
       " 7.548002310759201,\n",
       " 8.943453419953023,\n",
       " 5.01016998858669,\n",
       " 2.7168829154543683,\n",
       " 3.76150064071341,\n",
       " 7.052149336097925,\n",
       " 7.088918666795249,\n",
       " 7.764354664206249,\n",
       " 9.527306067667606,\n",
       " 8.213574085058363,\n",
       " 5.494342469913405,\n",
       " 5.165332877408849,\n",
       " 9.696847963802504,\n",
       " 5.235100817878816,\n",
       " 2.719920053506634,\n",
       " 7.090980820575798,\n",
       " 2.316153264273606,\n",
       " 4.15572659816127,\n",
       " 6.052851414276254,\n",
       " 9.681483745173802,\n",
       " 5.866835231415726,\n",
       " 6.1012368976432345,\n",
       " 2.932692844398952,\n",
       " 6.925223396888485,\n",
       " 9.69809902406381,\n",
       " 5.340299930386518,\n",
       " 9.32313226232726,\n",
       " 8.893222769587572,\n",
       " 5.745608338062908,\n",
       " 8.45427482841573,\n",
       " 7.602020070159794,\n",
       " 8.904093092783796,\n",
       " 6.090582923212466,\n",
       " 9.198461207021927,\n",
       " 5.8259627231478675,\n",
       " 4.42623144460205,\n",
       " 1.0317527342020782,\n",
       " 7.748051751410402,\n",
       " 9.21711241412997,\n",
       " 5.174839563126087,\n",
       " 9.148255609753411,\n",
       " 9.74377491279563,\n",
       " 9.764440591422868,\n",
       " 6.998175421657546,\n",
       " 8.920109693499198,\n",
       " 6.017468498318656,\n",
       " 8.913153781023617,\n",
       " 3.946309289477097,\n",
       " 4.376242087718776,\n",
       " 8.114473172546703,\n",
       " 6.217490229462389,\n",
       " 9.235954215057971,\n",
       " 9.637612605335873,\n",
       " 3.7237201798013775,\n",
       " 6.811433671397936,\n",
       " 5.556667050187651,\n",
       " 1.6394583001105378,\n",
       " 6.389751555941535,\n",
       " 4.103229847865304,\n",
       " 7.2890335140907245,\n",
       " 4.116819148650624,\n",
       " 9.185399046785392,\n",
       " 7.327369528307431]"
      ]
     },
     "execution_count": 23,
     "metadata": {},
     "output_type": "execute_result"
    }
   ],
   "source": [
    "# A test function\n",
    "def test_func(x,a=1,b=1):\n",
    "    return abs(a*x+b)\n",
    "\n",
    "generate_function(test_func,0,10,100)"
   ]
  },
  {
   "cell_type": "markdown",
   "metadata": {},
   "source": [
    "*Exercise 8:* Use your function to generate 1000 numbers that are normal distributed, using the `gaussian` function below. Confirm the mean and variance of the data is close to the mean and variance you specify when building the Gaussian. Histogram the data. "
   ]
  },
  {
   "cell_type": "code",
   "execution_count": 24,
   "metadata": {},
   "outputs": [],
   "source": [
    "import math\n",
    "\n",
    "def gaussian(mean, sigma):\n",
    "    def f(x):\n",
    "        return math.exp(-((x-mean)**2)/(2*sigma**2))/math.sqrt(math.pi*sigma)\n",
    "    return f\n",
    "\n",
    "# Example Instantiation\n",
    "g1=gaussian(0,1)\n",
    "g2=gaussian(10,3)"
   ]
  },
  {
   "cell_type": "code",
   "execution_count": 25,
   "metadata": {},
   "outputs": [],
   "source": [
    "mean = 5\n",
    "sigma = 2\n",
    "g = gaussian(mean, sigma)\n",
    "data = generate_function(g, -5, 15, 1000)\n",
    "\n",
    "def mean(Data):\n",
    "    m = 0.\n",
    "    for i in range(len(Data)):\n",
    "        m += Data[i]\n",
    "    m = m / len(Data)\n",
    "    return m\n",
    "\n",
    "def variance(Data):\n",
    "    m = mean(Data)\n",
    "    var = sum((xi - m)**2 for xi in Data) / len(Data)\n",
    "    return var"
   ]
  },
  {
   "cell_type": "code",
   "execution_count": 26,
   "metadata": {},
   "outputs": [
    {
     "name": "stdout",
     "output_type": "stream",
     "text": [
      "Desired Mean: <function mean at 0x1247ceac0>\n",
      "Actual Mean: 4.90020207912426\n",
      "Desired Variance: 4\n",
      "Actual Variance: 3.924552743539077\n",
      "[-1.218609, -0.588325] : \n",
      "[-0.588325, 0.041959] : \n",
      "[0.041959, 0.672242] : #\n",
      "[0.672242, 1.302526] : ##\n",
      "[1.302526, 1.932809] : #####\n",
      "[1.932809, 2.563093] : ########\n",
      "[2.563093, 3.193376] : ##############\n",
      "[3.193376, 3.823660] : ###############\n",
      "[3.823660, 4.453944] : ####################\n",
      "[4.453944, 5.084227] : ##################\n",
      "[5.084227, 5.714511] : #################\n",
      "[5.714511, 6.344794] : ##################\n",
      "[6.344794, 6.975078] : ############\n",
      "[6.975078, 7.605361] : #########\n",
      "[7.605361, 8.235645] : ######\n",
      "[8.235645, 8.865929] : #####\n",
      "[8.865929, 9.496212] : ##\n",
      "[9.496212, 10.126496] : \n",
      "[10.126496, 10.756779] : \n",
      "[10.756779, 11.387063] : \n"
     ]
    },
    {
     "data": {
      "text/plain": [
       "([2,\n",
       "  3,\n",
       "  9,\n",
       "  15,\n",
       "  34,\n",
       "  54,\n",
       "  88,\n",
       "  99,\n",
       "  125,\n",
       "  117,\n",
       "  108,\n",
       "  117,\n",
       "  79,\n",
       "  57,\n",
       "  40,\n",
       "  32,\n",
       "  15,\n",
       "  2,\n",
       "  2,\n",
       "  1],\n",
       " [-1.2186086116375705,\n",
       "  -0.5883250338191741,\n",
       "  0.041958543999222275,\n",
       "  0.6722421218176187,\n",
       "  1.302525699636015,\n",
       "  1.9328092774544112,\n",
       "  2.563092855272808,\n",
       "  3.1933764330912044,\n",
       "  3.8236600109096006,\n",
       "  4.453943588727997,\n",
       "  5.084227166546393,\n",
       "  5.71451074436479,\n",
       "  6.344794322183186,\n",
       "  6.975077900001583,\n",
       "  7.605361477819979,\n",
       "  8.235645055638376,\n",
       "  8.865928633456772,\n",
       "  9.496212211275168,\n",
       "  10.126495789093564,\n",
       "  10.75677936691196,\n",
       "  11.387062944730356])"
      ]
     },
     "execution_count": 26,
     "metadata": {},
     "output_type": "execute_result"
    }
   ],
   "source": [
    "mean_actual = mean(data)\n",
    "variance_actual = variance(data)\n",
    "\n",
    "print(\"Desired Mean:\", mean)\n",
    "print(\"Actual Mean:\", mean_actual)\n",
    "print(\"Desired Variance:\", sigma**2)\n",
    "print(\"Actual Variance:\", variance_actual)\n",
    "\n",
    "draw_histogram(data, 20)"
   ]
  },
  {
   "cell_type": "markdown",
   "metadata": {},
   "source": [
    "*Exercise 9:* Combine your `generate_function`, `where`, and `in_range` functions above to create an integrate function. Use your integrate function to show that approximately 68% of Normal distribution is within one variance."
   ]
  },
  {
   "cell_type": "code",
   "execution_count": 27,
   "metadata": {},
   "outputs": [],
   "source": [
    "def integrate(func, x_min, x_max, n_points=1000):\n",
    "    data = generate_function(func, x_min, x_max, n_points)\n",
    "    in_range_func = in_range(x_min, x_max)\n",
    "    indices_in_range = where(data, in_range_func)\n",
    "\n",
    "    integral = len(indices_in_range) / len(data)\n",
    "    return integral\n"
   ]
  },
  {
   "cell_type": "code",
   "execution_count": 28,
   "metadata": {},
   "outputs": [
    {
     "name": "stdout",
     "output_type": "stream",
     "text": [
      "Integral within one standard deviation: 1.0\n"
     ]
    }
   ],
   "source": [
    "mean = 0\n",
    "sigma = 1\n",
    "g = gaussian(mean, sigma)\n",
    "integral_one_sigma = integrate(g, mean - sigma, mean + sigma, n_points=10000)\n",
    "print(f\"Integral within one standard deviation: {integral_one_sigma}\")"
   ]
  }
 ],
 "metadata": {
  "kernelspec": {
   "display_name": "Python 3 (ipykernel)",
   "language": "python",
   "name": "python3"
  },
  "language_info": {
   "codemirror_mode": {
    "name": "ipython",
    "version": 3
   },
   "file_extension": ".py",
   "mimetype": "text/x-python",
   "name": "python",
   "nbconvert_exporter": "python",
   "pygments_lexer": "ipython3",
   "version": "3.13.1"
  }
 },
 "nbformat": 4,
 "nbformat_minor": 4
}
